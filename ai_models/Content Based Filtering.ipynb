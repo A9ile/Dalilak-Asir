{
  "nbformat": 4,
  "nbformat_minor": 0,
  "metadata": {
    "colab": {
      "provenance": []
    },
    "kernelspec": {
      "name": "python3",
      "display_name": "Python 3"
    },
    "language_info": {
      "name": "python"
    }
  },
  "cells": [
    {
      "cell_type": "code",
      "source": [
        "from sklearn.feature_extraction.text import TfidfVectorizer\n",
        "from sklearn.metrics.pairwise import cosine_similarity\n",
        "import numpy as np\n",
        "import pandas as pd\n",
        "\n",
        "\n",
        "\n",
        "\n",
        "# بناء user profile\n",
        "user_profiles = df_interests.groupby(\"user_id\")[\"interest\"].apply(lambda x: \"، \".join(x)).reset_index()\n",
        "\n",
        "# بناء guide profile\n",
        "guide_profiles = df_tags.groupby(\"guide_id\")[\"tag\"].apply(lambda x: \"، \".join(x)).reset_index()\n",
        "\n",
        "# دمج التوصيات مع أسماء ومناطق المستخدمين\n",
        "df_cb_named_simple = df_cb_recommendations.merge(\n",
        "    df_users[['id', 'name', 'region']],\n",
        "    left_on=\"user_id\",\n",
        "    right_on=\"id\",\n",
        "    how=\"left\"\n",
        ").rename(columns={\n",
        "    \"name\": \"user_name\",\n",
        "    \"region\": \"user_region\"\n",
        "}).drop(columns=[\"id\"])\n",
        "\n",
        "# دمج مع أسماء ومناطق المرشدين\n",
        "df_cb_named_simple = df_cb_named_simple.merge(\n",
        "    df_guides[['id', 'name', 'region']],\n",
        "    left_on=\"guide_id\",\n",
        "    right_on=\"id\",\n",
        "    how=\"left\"\n",
        ").rename(columns={\n",
        "    \"name\": \"guide_name\",\n",
        "    \"region\": \"guide_region\"\n",
        "}).drop(columns=[\"id\"])\n",
        "\n",
        "# دمج مع الاهتمامات\n",
        "df_cb_named_simple = df_cb_named_simple.merge(user_profiles, on=\"user_id\", how=\"left\")\n",
        "\n",
        "# دمج مع التاغز\n",
        "df_cb_named_simple = df_cb_named_simple.merge(guide_profiles, on=\"guide_id\", how=\"left\")\n",
        "\n",
        "# إعادة ترتيب الأعمدة + التسمية النهائية\n",
        "df_cb_cleaned = df_cb_named_simple[[\n",
        "    \"user_name\", \"user_region\", \"interest\",\n",
        "    \"guide_name\", \"guide_region\", \"tag\", \"similarity\"\n",
        "]].rename(columns={\n",
        "    \"user_name\": \"المستخدم\",\n",
        "    \"user_region\": \"منطقة المستخدم\",\n",
        "    \"interest\": \"اهتمام المستخدم\",\n",
        "    \"guide_name\": \"المرشد المقترح\",\n",
        "    \"guide_region\": \"منطقة المرشد\",\n",
        "    \"tag\": \"توصيف المرشد\",\n",
        "    \"similarity\": \"درجة التشابه\"\n",
        "})\n",
        "\n",
        "# عرض النتيجة\n",
        "display(df_cb_cleaned.head(10))\n"
      ],
      "metadata": {
        "id": "EG3TWUuEkEkK"
      },
      "execution_count": null,
      "outputs": []
    }
  ]
}