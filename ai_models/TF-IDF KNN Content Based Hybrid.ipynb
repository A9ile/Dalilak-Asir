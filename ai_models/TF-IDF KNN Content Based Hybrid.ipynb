{
  "nbformat": 4,
  "nbformat_minor": 0,
  "metadata": {
    "colab": {
      "provenance": []
    },
    "kernelspec": {
      "name": "python3",
      "display_name": "Python 3"
    },
    "language_info": {
      "name": "python"
    }
  },
  "cells": [
    {
      "cell_type": "code",
      "source": [
        "from sklearn.feature_extraction.text import TfidfVectorizer\n",
        "from sklearn.neighbors import NearestNeighbors\n",
        "import random\n",
        "\n",
        "\n",
        "user_profiles = df_interests.groupby(\"user_id\")[\"interest\"].apply(lambda x: \"، \".join(x)).reset_index()\n",
        "\n",
        "\n",
        "guide_tags = df_tags.groupby(\"guide_id\")[\"tag\"].apply(lambda x: \"، \".join(x)).reset_index()\n",
        "guide_profiles = guide_tags.merge(df_guides[[\"id\", \"region\", \"name\"]], left_on=\"guide_id\", right_on=\"id\")\n",
        "\n",
        "\n",
        "vectorizer = TfidfVectorizer()\n",
        "guide_tfidf = vectorizer.fit_transform(guide_profiles[\"tag\"])\n",
        "\n",
        "\n",
        "random_index = random.randint(0, len(user_profiles) - 1)\n",
        "sample_user_id = user_profiles[\"user_id\"].iloc[random_index]\n",
        "sample_user_interests = user_profiles[user_profiles[\"user_id\"] == sample_user_id][\"interest\"].values[0]\n",
        "\n",
        "user_vector = vectorizer.transform([sample_user_interests])\n",
        "user_info = df_users[df_users[\"id\"] == sample_user_id].iloc[0]\n",
        "\n",
        "\n",
        "knn = NearestNeighbors(n_neighbors=5, metric=\"cosine\")\n",
        "knn.fit(guide_tfidf)\n",
        "distances, indices = knn.kneighbors(user_vector)\n",
        "\n",
        "\n",
        "recommended_guides = guide_profiles.iloc[indices.flatten()].copy()\n",
        "recommended_guides[\"درجة التشابه\"] = 1 - distances.flatten()\n",
        "\n",
        "\n",
        "recommended_guides.insert(0, \"المستخدم\", user_info[\"name\"])\n",
        "recommended_guides.insert(1, \"اهتماماته\", sample_user_interests)\n",
        "recommended_guides.insert(2, \"منطقته\", user_info[\"region\"])\n",
        "\n",
        "\n",
        "recommended_guides = recommended_guides.rename(columns={\n",
        "    \"name\": \"المرشد المقترح\",\n",
        "    \"tag\": \"اهتمامات المرشد\",\n",
        "    \"region\": \"منطقته (المرشد)\"\n",
        "})\n",
        "\n",
        "\n",
        "region_boost = 0.05\n",
        "user_region = user_info[\"region\"]\n",
        "\n",
        "recommended_guides[\"الدرجة النهائية\"] = recommended_guides.apply(\n",
        "    lambda row: row[\"درجة التشابه\"] + region_boost if row[\"منطقته (المرشد)\"] == user_region else row[\"درجة التشابه\"],\n",
        "    axis=1\n",
        ")\n",
        "\n",
        "\n",
        "recommended_guides = recommended_guides.sort_values(by=\"الدرجة النهائية\", ascending=False)\n",
        "\n",
        "\n",
        "display(recommended_guides[[\n",
        "    \"المستخدم\", \"اهتماماته\", \"منطقته\", \"المرشد المقترح\", \"اهتمامات المرشد\", \"منطقته (المرشد)\", \"درجة التشابه\", \"الدرجة النهائية\"\n",
        "]])\n"
      ],
      "metadata": {
        "id": "EG3TWUuEkEkK"
      },
      "execution_count": null,
      "outputs": []
    }
  ]
}